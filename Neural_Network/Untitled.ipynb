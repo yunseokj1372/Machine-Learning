{
 "cells": [
  {
   "cell_type": "code",
   "execution_count": 4,
   "id": "a8e13b5b",
   "metadata": {},
   "outputs": [
    {
     "name": "stdout",
     "output_type": "stream",
     "text": [
      "DEBUG: (Node softmax) Max rel error for partial deriv w.r.t. z is 2.8524242506136788e-08.\r\n",
      "./Users/ryanjang123/Machine-Learning/hw7/nodes.py:281: RuntimeWarning: invalid value encountered in log\r\n",
      "  self.out = -np.sum(self.y.out*np.log(self.y_hat.out)+(1-self.y.out)*np.log(1-self.y_hat.out))\r\n",
      "DEBUG: (Parameter W1) Max rel error for partial deriv -1.\r\n",
      "DEBUG: (Parameter b1) Max rel error for partial deriv -1.\r\n",
      "DEBUG: (Parameter W2) Max rel error for partial deriv -1.\r\n",
      "DEBUG: (Parameter b2) Max rel error for partial deriv -1.\r\n",
      ".\r\n",
      "----------------------------------------------------------------------\r\n",
      "Ran 2 tests in 0.003s\r\n",
      "\r\n",
      "OK\r\n"
     ]
    }
   ],
   "source": [
    "!python3 multiclass.t.py"
   ]
  },
  {
   "cell_type": "code",
   "execution_count": null,
   "id": "50965dba",
   "metadata": {},
   "outputs": [],
   "source": []
  }
 ],
 "metadata": {
  "kernelspec": {
   "display_name": "Python 3 (ipykernel)",
   "language": "python",
   "name": "python3"
  },
  "language_info": {
   "codemirror_mode": {
    "name": "ipython",
    "version": 3
   },
   "file_extension": ".py",
   "mimetype": "text/x-python",
   "name": "python",
   "nbconvert_exporter": "python",
   "pygments_lexer": "ipython3",
   "version": "3.9.7"
  }
 },
 "nbformat": 4,
 "nbformat_minor": 5
}
