{
 "cells": [
  {
   "cell_type": "code",
   "execution_count": 94,
   "id": "579df2d4",
   "metadata": {
    "id": "579df2d4"
   },
   "outputs": [],
   "source": [
    "import sys\n",
    "import numpy as np\n",
    "import pandas as pd\n",
    "import matplotlib.pyplot as plt\n",
    "from sklearn.model_selection import train_test_split\n",
    "import random\n",
    "\n",
    "\n",
    "#######################################\n",
    "### Feature normalization\n",
    "def feature_normalization(train, test):\n",
    "    \"\"\"Rescale the data so that each feature in the training set is in\n",
    "    the interval [0,1], and apply the same transformations to the test\n",
    "    set, using the statistics computed on the training set.\n",
    "\n",
    "    Args:\n",
    "        train - training set, a 2D numpy array of size(num_instances, num_features)\n",
    "        test - test set, a 2D numpy array of size(num_instances, num_features)\n",
    "\n",
    "    Returns:\n",
    "        train_normalized - training set after normalization\n",
    "        test_normalized - test set after normalization\n",
    "    \"\"\"\n",
    "    # TODO\n",
    "    maxx = train.max(axis=0)\n",
    "    minx = train.min(axis=0)\n",
    "    \n",
    "    # For sake of constant filtering\n",
    "    cs = minx != maxx\n",
    "    \n",
    "    train_filt = train[:,cs]\n",
    "    \n",
    "    train_normalized = (train_filt-minx)/(maxx-minx)\n",
    "    test_normalized = (test-minx)/(maxx-minx)\n",
    "    return train_normalized, test_normalized\n",
    "\n",
    "\n",
    "\n",
    "#######################################\n",
    "### The square loss function\n",
    "def compute_square_loss(X, y, theta):\n",
    "    \"\"\"\n",
    "    Given a set of X, y, theta, compute the average square loss for predicting y with X*theta.\n",
    "\n",
    "    Args:\n",
    "        X - the feature vector, 2D numpy array of size(num_instances, num_features)\n",
    "        y - the label vector, 1D numpy array of size(num_instances)\n",
    "        theta - the parameter vector, 1D array of size(num_features)\n",
    "\n",
    "    Returns:\n",
    "        loss - the average square loss, scalar\n",
    "    \"\"\"\n",
    "    #TODO\n",
    "    loss = (1/np.shape(X)[0])*np.linalg.norm(X@theta-y)\n",
    "    return loss\n",
    "\n",
    "\n",
    "#######################################\n",
    "### The gradient of the square loss function\n",
    "def compute_square_loss_gradient(X, y, theta):\n",
    "    \"\"\"\n",
    "    Compute the gradient of the average square loss(as defined in compute_square_loss), at the point theta.\n",
    "\n",
    "    Args:\n",
    "        X - the feature vector, 2D numpy array of size(num_instances, num_features)\n",
    "        y - the label vector, 1D numpy array of size(num_instances)\n",
    "        theta - the parameter vector, 1D numpy array of size(num_features)\n",
    "\n",
    "    Returns:\n",
    "        grad - gradient vector, 1D numpy array of size(num_features)\n",
    "    \"\"\"\n",
    "    #TODO\n",
    "    grad = (2/np.shape(X)[0])*(X.T@X@theta-X.T@y)\n",
    "    return grad\n",
    "\n",
    "\n",
    "\n",
    "#######################################\n",
    "### Gradient checker\n",
    "#Getting the gradient calculation correct is often the trickiest part\n",
    "#of any gradient-based optimization algorithm. Fortunately, it's very\n",
    "#easy to check that the gradient calculation is correct using the\n",
    "#definition of gradient.\n",
    "#See http://ufldl.stanford.edu/wiki/index.php/Gradient_checking_and_advanced_optimization\n",
    "def grad_checker(X, y, theta, epsilon=0.01, tolerance=1e-4):\n",
    "    \"\"\"Implement Gradient Checker\n",
    "    Check that the function compute_square_loss_gradient returns the\n",
    "    correct gradient for the given X, y, and theta.\n",
    "\n",
    "    Let d be the number of features. Here we numerically estimate the\n",
    "    gradient by approximating the directional derivative in each of\n",
    "    the d coordinate directions:\n",
    "(e_1 =(1,0,0,...,0), e_2 =(0,1,0,...,0), ..., e_d =(0,...,0,1))\n",
    "\n",
    "    The approximation for the directional derivative of J at the point\n",
    "    theta in the direction e_i is given by:\n",
    "(J(theta + epsilon * e_i) - J(theta - epsilon * e_i)) /(2*epsilon).\n",
    "\n",
    "    We then look at the Euclidean distance between the gradient\n",
    "    computed using this approximation and the gradient computed by\n",
    "    compute_square_loss_gradient(X, y, theta).  If the Euclidean\n",
    "    distance exceeds tolerance, we say the gradient is incorrect.\n",
    "\n",
    "    Args:\n",
    "        X - the feature vector, 2D numpy array of size(num_instances, num_features)\n",
    "        y - the label vector, 1D numpy array of size(num_instances)\n",
    "        theta - the parameter vector, 1D numpy array of size(num_features)\n",
    "        epsilon - the epsilon used in approximation\n",
    "        tolerance - the tolerance error\n",
    "\n",
    "    Return:\n",
    "        A boolean value indicating whether the gradient is correct or not\n",
    "    \"\"\"\n",
    "    true_gradient = compute_square_loss_gradient(X, y, theta) #The true gradient\n",
    "    num_features = theta.shape[0]\n",
    "    approx_grad = np.zeros(num_features) #Initialize the gradient we approximate\n",
    "    #TODO\n",
    "    d = np.shape(X)[1]\n",
    "    E = np.eye(d)\n",
    "    for i in range(d):\n",
    "        app = (compute_square_loss(X, y, theta+epsilon*E[i]) - compute_square_loss(X, y, theta-epsilon*E[i]))/(2*epsilon)\n",
    "        approx_grad[i] = app\n",
    "        \n",
    "    dist = np.linalg.norm(true_gradient-approx_grad)\n",
    "    if dist > tolerance:\n",
    "        ans= False\n",
    "    else:\n",
    "        ans = True\n",
    "    \n",
    "    \n",
    "    return ans\n",
    "\n",
    "\n",
    "#######################################\n",
    "### Generic gradient checker\n",
    "def generic_gradient_checker(X, y, theta, objective_func, gradient_func, \n",
    "                             epsilon=0.01, tolerance=1e-4):\n",
    "    \"\"\"\n",
    "    The functions takes objective_func and gradient_func as parameters. \n",
    "    And check whether gradient_func(X, y, theta) returned the true \n",
    "    gradient for objective_func(X, y, theta).\n",
    "    Eg: In LSR, the objective_func = compute_square_loss, and gradient_func = compute_square_loss_gradient\n",
    "    \"\"\"\n",
    "    #TODO\n",
    "\n",
    "\n",
    "\n",
    "#######################################\n",
    "### Batch gradient descent\n",
    "def batch_grad_descent(X, y, alpha=0.1, num_step=1000, grad_check=False):\n",
    "    \"\"\"\n",
    "    In this question you will implement batch gradient descent to\n",
    "    minimize the average square loss objective.\n",
    "\n",
    "    Args:\n",
    "        X - the feature vector, 2D numpy array of size(num_instances, num_features)\n",
    "        y - the label vector, 1D numpy array of size(num_instances)\n",
    "        alpha - step size in gradient descent\n",
    "        num_step - number of steps to run\n",
    "        grad_check - a boolean value indicating whether checking the gradient when updating\n",
    "\n",
    "    Returns:\n",
    "        theta_hist - the history of parameter vector, 2D numpy array of size(num_step+1, num_features)\n",
    "                     for instance, theta in step 0 should be theta_hist[0], theta in step(num_step) is theta_hist[-1]\n",
    "        loss_hist - the history of average square loss on the data, 1D numpy array,(num_step+1)\n",
    "    \"\"\"\n",
    "    num_instances, num_features = X.shape[0], X.shape[1]\n",
    "    theta_hist = np.zeros((num_step + 1, num_features))  #Initialize theta_hist\n",
    "    loss_hist = np.zeros(num_step + 1)  #Initialize loss_hist\n",
    "    theta = np.zeros(num_features)  #Initialize theta\n",
    "    #TODO\n",
    "    theta_hist[0,:] = theta\n",
    "    loss_hist[0] = compute_square_loss(X, y, theta)\n",
    "    for i in range(num_step):\n",
    "        theta_hist[i+1,:] = theta_hist[i,:] - alpha * compute_square_loss_gradient(X, y, theta_hist[i])\n",
    "        loss_hist[i+1] = compute_square_loss(X, y, theta_hist[i+1,:])\n",
    "        check = grad_checker(X, y, theta_hist[i+1,:], epsilon=0.01, tolerance=1e-4)\n",
    "        if check == True:\n",
    "            break\n",
    "    return theta_hist, loss_hist\n",
    "\n",
    "\n",
    "\n",
    "#######################################\n",
    "### The gradient of regularized batch gradient descent\n",
    "def compute_regularized_square_loss_gradient(X, y, theta, lambda_reg):\n",
    "    \"\"\"\n",
    "    Compute the gradient of L2-regularized average square loss function given X, y and theta\n",
    "\n",
    "    Args:\n",
    "        X - the feature vector, 2D numpy array of size(num_instances, num_features)\n",
    "        y - the label vector, 1D numpy array of size(num_instances)\n",
    "        theta - the parameter vector, 1D numpy array of size(num_features)\n",
    "        lambda_reg - the regularization coefficient\n",
    "\n",
    "    Returns:\n",
    "        grad - gradient vector, 1D numpy array of size(num_features)\n",
    "    \"\"\"\n",
    "    #TODO\n",
    "    grad = (2/np.shape(X)[0])*(X.T@X@theta-X.T@y)+ 2*lambda_reg*theta\n",
    "    return grad\n",
    "\n",
    "#######################################\n",
    "### Regularized batch gradient descent\n",
    "def regularized_grad_descent(X, y, alpha, lambda_reg, num_step=1000):\n",
    "    \"\"\"\n",
    "    Args:\n",
    "        X - the feature vector, 2D numpy array of size(num_instances, num_features)\n",
    "        y - the label vector, 1D numpy array of size(num_instances)\n",
    "        alpha - step size in gradient descent\n",
    "        lambda_reg - the regularization coefficient\n",
    "        num_step - number of steps to run\n",
    "    \n",
    "    Returns:\n",
    "        theta_hist - the history of parameter vector, 2D numpy array of size(num_step+1, num_features)\n",
    "                     for instance, theta in step 0 should be theta_hist[0], theta in step(num_step+1) is theta_hist[-1]\n",
    "        loss hist - the history of average square loss function without the regularization term, 1D numpy array.\n",
    "    \"\"\"\n",
    "    num_instances, num_features = X.shape[0], X.shape[1]\n",
    "    theta = np.zeros(num_features) #Initialize theta\n",
    "    theta_hist = np.zeros((num_step+1, num_features)) #Initialize theta_hist\n",
    "    loss_hist = np.zeros(num_step+1) #Initialize loss_hist\n",
    "\n",
    "    #TODO\n",
    "    theta_hist[0,:] = theta\n",
    "    loss_hist[0] = compute_square_loss(X, y, theta)\n",
    "    for i in range(num_step):\n",
    "        theta_hist[i+1,:] = theta_hist[i,:] - alpha * compute_regularized_square_loss_gradient(X, y, theta_hist[i,:], lambda_reg)\n",
    "        loss_hist[i+1] = compute_square_loss(X, y, theta_hist[i+1,:])\n",
    "#         check = grad_checker(X, y, theta_hist[i+1,:], epsilon=0.01, tolerance=1e-4)\n",
    "#          if check == False:\n",
    "#              break\n",
    "    return theta_hist, loss_hist\n",
    "\n",
    "    \n",
    "\n",
    "\n",
    "\n",
    "#######################################\n",
    "### Stochastic gradient descent\n",
    "def stochastic_grad_descent(X, y, alpha=0.01, lambda_reg=10**-2, num_epoch=1000, eta0=False):\n",
    "    \"\"\"\n",
    "    In this question you will implement stochastic gradient descent with regularization term\n",
    "\n",
    "    Args:\n",
    "        X - the feature vector, 2D numpy array of size(num_instances, num_features)\n",
    "        y - the label vector, 1D numpy array of size(num_instances)\n",
    "        alpha - string or float, step size in gradient descent\n",
    "                NOTE: In SGD, it's not a good idea to use a fixed step size. Usually it's set to 1/sqrt(t) or 1/t\n",
    "                if alpha is a float, then the step size in every step is the float.\n",
    "                if alpha == \"1/sqrt(t)\", alpha = 1/sqrt(t).\n",
    "                if alpha == \"1/t\", alpha = 1/t.\n",
    "        lambda_reg - the regularization coefficient\n",
    "        num_epoch - number of epochs to go through the whole training set\n",
    "\n",
    "    Returns:\n",
    "        theta_hist - the history of parameter vector, 3D numpy array of size(num_epoch, num_instances, num_features)\n",
    "                     for instance, theta in epoch 0 should be theta_hist[0], theta in epoch(num_epoch) is theta_hist[-1]\n",
    "        loss hist - the history of loss function vector, 2D numpy array of size(num_epoch, num_instances)\n",
    "    \"\"\"\n",
    "    num_instances, num_features = X.shape[0], X.shape[1]\n",
    "    theta = np.ones(num_features) #Initialize theta\n",
    "\n",
    "    theta_hist = np.zeros((num_epoch, num_instances, num_features)) #Initialize theta_hist\n",
    "    loss_hist = np.zeros((num_epoch, num_instances)) #Initialize loss_hist\n",
    "    \n",
    "\n",
    "    theta_hist[0,0,:] = theta\n",
    "    loss_hist[0] = compute_square_loss(X, y, theta)\n",
    "    L = [z for z in range(num_instances)]\n",
    "\n",
    "    for i in range(num_epoch):\n",
    "        k = random.choice(L)\n",
    "        for j in range(num_instances):\n",
    "            pick_X = np.array(X[k,:])\n",
    "            theta_hist[i+1,j+1,:] = (2)*(pick_X.T@pick_X@theta-pick_X.T@y)+ 2*lambda_reg*theta\n",
    "#             theta_hist[i,j,:] - alpha * compute_regularized_square_loss_gradient(pick_X, y[k],theta_hist[i,j,:], lambda_reg=lambda_reg)\n",
    "            loss_hist[i+1,j+1] = compute_square_loss(pick_X, y[k], theta_hist[i+1,j+1,:])\n",
    "\n",
    "    return theta_hist, loss_hist\n",
    "\n",
    "\n",
    "    #TODO\n",
    "\n",
    "\n",
    "def load_data():\n",
    "    #Loading the dataset\n",
    "    print('loading the dataset')\n",
    "\n",
    "    df = pd.read_csv('ridge_regression_dataset.csv', delimiter=',')\n",
    "    X = df.values[:,:-1]\n",
    "    y = df.values[:,-1]\n",
    "\n",
    "    print('Split into Train and Test')\n",
    "    X_train, X_test, y_train, y_test = train_test_split(X, y, test_size=100, random_state=10)\n",
    "\n",
    "    print(\"Scaling all to [0, 1]\")\n",
    "    X_train, X_test = feature_normalization(X_train, X_test)\n",
    "    X_train = np.hstack((X_train, np.ones((X_train.shape[0], 1))))  # Add bias term\n",
    "    X_test = np.hstack((X_test, np.ones((X_test.shape[0], 1))))\n",
    "    return X_train, y_train, X_test, y_test\n"
   ]
  },
  {
   "cell_type": "code",
   "execution_count": 75,
   "id": "3840d943",
   "metadata": {
    "colab": {
     "base_uri": "https://localhost:8080/",
     "height": 329
    },
    "id": "3840d943",
    "outputId": "e315b71d-737f-4a8e-8c35-2a4d3112abfc"
   },
   "outputs": [
    {
     "name": "stdout",
     "output_type": "stream",
     "text": [
      "loading the dataset\n",
      "Split into Train and Test\n",
      "Scaling all to [0, 1]\n"
     ]
    }
   ],
   "source": [
    "X_train, y_train, X_test, y_test = load_data()"
   ]
  },
  {
   "cell_type": "code",
   "execution_count": 76,
   "id": "4ffdeabf",
   "metadata": {
    "id": "4ffdeabf",
    "outputId": "00a997df-eded-4e9f-a5a9-4bbcbf6579a0"
   },
   "outputs": [
    {
     "data": {
      "text/plain": [
       "array([[1.        , 1.        , 1.        , ..., 0.13241261, 0.13241261,\n",
       "        1.        ],\n",
       "       [1.        , 1.        , 1.        , ..., 0.92975578, 0.92975578,\n",
       "        1.        ],\n",
       "       [1.        , 1.        , 1.        , ..., 0.91055382, 0.91055382,\n",
       "        1.        ],\n",
       "       ...,\n",
       "       [1.        , 0.        , 0.        , ..., 0.04886354, 0.04886354,\n",
       "        1.        ],\n",
       "       [1.        , 1.        , 1.        , ..., 0.58441163, 0.58441163,\n",
       "        1.        ],\n",
       "       [0.        , 0.        , 0.        , ..., 0.03210449, 0.03210449,\n",
       "        1.        ]])"
      ]
     },
     "execution_count": 76,
     "metadata": {},
     "output_type": "execute_result"
    }
   ],
   "source": [
    "X_train"
   ]
  },
  {
   "cell_type": "code",
   "execution_count": 20,
   "id": "2e0aae72",
   "metadata": {},
   "outputs": [
    {
     "name": "stdout",
     "output_type": "stream",
     "text": [
      "0.2821616264416977\n"
     ]
    }
   ],
   "source": [
    "# 8\n",
    "theta = np.zeros(np.shape(X_train)[1])\n",
    "a = compute_square_loss(X_train, y_train, theta)\n",
    "print(a)"
   ]
  },
  {
   "cell_type": "code",
   "execution_count": 22,
   "id": "a04c20c1",
   "metadata": {},
   "outputs": [
    {
     "name": "stdout",
     "output_type": "stream",
     "text": [
      "[ 0.25182065 -0.15015092 -0.40509526 -0.48635482 -0.09047498 -0.14102752\n",
      " -0.19706508 -0.19706508 -0.43171119 -0.64257159 -0.69600073 -0.37699938\n",
      " -0.00881756  0.1961221  -0.61472345 -0.71499271 -0.57656883 -0.11765843\n",
      " -0.16572975 -0.16572975 -0.16572975 -0.2405182  -0.2405182  -0.2405182\n",
      " -0.25532376 -0.25532376 -0.25532376 -0.26195435 -0.26195435 -0.26195435\n",
      " -0.2655612  -0.2655612  -0.2655612  -0.29115783 -0.29115783 -0.29115783\n",
      " -0.32684613 -0.32684613 -0.32684613 -0.30492033 -0.30492033 -0.30492033\n",
      " -0.29459583 -0.29459583 -0.29459583 -0.28881282 -0.28881282 -0.28881282\n",
      "  0.36972349]\n"
     ]
    }
   ],
   "source": [
    "# 9 \n",
    "b = compute_square_loss_gradient(X_train, y_train, theta)\n",
    "print(b)"
   ]
  },
  {
   "cell_type": "code",
   "execution_count": null,
   "id": "h8zWEcbA0jpD",
   "metadata": {
    "id": "h8zWEcbA0jpD"
   },
   "outputs": [],
   "source": [
    "# Different num steps\n",
    "steps = [100,200,500,1000]\n",
    "\n",
    "# theta_100, loss_100 = batch_grad_descent(X_train, y_train, alpha=0.1, num_step=100, grad_check=False)\n",
    "# theta_200, loss_200 = batch_grad_descent(X_train, y_train, alpha=0.1, num_step=200, grad_check=False)\n",
    "# theta_500, loss_500 = batch_grad_descent(X_train, y_train, alpha=0.1, num_step=500, grad_check=False)\n",
    "# theta_1000, loss_1000 = batch_grad_descent(X_train, y_train, alpha=0.1, num_step=1000, grad_check=False)\n",
    "\n",
    "# plot\n",
    "# plt.plot([i for i in range(1,101)],loss_100)\n",
    "# plt.plot([i for i in range(1,201)],loss_200)\n",
    "# plt.plot([i for i in range(1,501)],loss_500)\n",
    "# plt.plot([i for i in range(1,1001)],loss_1000)"
   ]
  },
  {
   "cell_type": "code",
   "execution_count": 43,
   "id": "c3e51bb8",
   "metadata": {
    "colab": {
     "base_uri": "https://localhost:8080/",
     "height": 236
    },
    "id": "c3e51bb8",
    "outputId": "654c19b4-3cb5-4b2e-ba0a-5491330c4f2e"
   },
   "outputs": [
    {
     "name": "stderr",
     "output_type": "stream",
     "text": [
      "/var/folders/gb/zw91jmc17d950cfmd43jqc7c0000gn/T/ipykernel_1438/4177264066.py:121: RuntimeWarning: invalid value encountered in double_scalars\n",
      "  app = (compute_square_loss(X, y, theta+epsilon*E[i]) - compute_square_loss(X, y, theta-epsilon*E[i]))/(2*epsilon)\n"
     ]
    },
    {
     "name": "stdout",
     "output_type": "stream",
     "text": [
      "[0.28216163 0.43635851 6.55325109 ... 0.         0.         0.        ]\n",
      "[0.28216163 0.28227165 0.31755115 ... 0.         0.         0.        ]\n",
      "[0.28216163 0.27975917 0.27755663 ... 0.14415287 0.14414756 0.14414227]\n"
     ]
    },
    {
     "data": {
      "image/png": "[encoded data removed]",
      "text/plain": [
       "<Figure size 432x288 with 1 Axes>"
      ]
     },
     "metadata": {
      "needs_background": "light"
     },
     "output_type": "display_data"
    },
    {
     "data": {
      "image/png": "[encoded data removed]",
      "text/plain": [
       "<Figure size 432x288 with 1 Axes>"
      ]
     },
     "metadata": {
      "needs_background": "light"
     },
     "output_type": "display_data"
    }
   ],
   "source": [
    "# 12\n",
    "# Initializing the storage for plotting the gradients \n",
    "step_size = [0.5,0.1,0.05,0.01]\n",
    "num_step = 1000\n",
    "space2 = np.zeros((num_step, len(step_size)))\n",
    "\n",
    "\n",
    "theta_1, loss_1 = batch_grad_descent(X_train, y_train, alpha=0.5, num_step= 1000, grad_check=False)\n",
    "theta_2, loss_2 = batch_grad_descent(X_train, y_train, alpha=0.1, num_step= 1000, grad_check=False)\n",
    "theta_3, loss_3 = batch_grad_descent(X_train, y_train, alpha=0.05, num_step= 1000, grad_check=False)\n",
    "theta_4, loss_4 = batch_grad_descent(X_train, y_train, alpha=0.01, num_step= 1000, grad_check=False)\n",
    "\n",
    "\n",
    "print(loss_1)\n",
    "print(loss_2)\n",
    "print(loss_3)\n",
    "\n",
    "axis = [i for i in range(1,1002)]\n",
    "\n",
    "plt.figure(1)\n",
    "plt.plot(axis,loss_1)\n",
    "plt.plot(axis,loss_2)\n",
    "\n",
    "plt.figure(2)\n",
    "plt.plot(axis,loss_3)\n",
    "plt.plot(axis,loss_4)\n",
    "plt.show()"
   ]
  },
  {
   "cell_type": "code",
   "execution_count": null,
   "id": "6bH2LWG9zIuX",
   "metadata": {
    "id": "6bH2LWG9zIuX"
   },
   "outputs": [],
   "source": [
    "# 13\n",
    "theta_hist, loss_hist = batch_grad_descent(X_test, y_test, alpha=0.1, num_step= 1000, grad_check=False)\n"
   ]
  },
  {
   "cell_type": "code",
   "execution_count": 47,
   "id": "ECVnxduSJ4Ab",
   "metadata": {
    "id": "ECVnxduSJ4Ab"
   },
   "outputs": [
    {
     "name": "stderr",
     "output_type": "stream",
     "text": [
      "/var/folders/gb/zw91jmc17d950cfmd43jqc7c0000gn/T/ipykernel_1438/4033647080.py:200: RuntimeWarning: overflow encountered in matmul\n",
      "  grad = (2/np.shape(X)[0])*(X.T@X@theta-X.T@y)+ 2*lambda_reg*theta\n",
      "/var/folders/gb/zw91jmc17d950cfmd43jqc7c0000gn/T/ipykernel_1438/4033647080.py:54: RuntimeWarning: invalid value encountered in matmul\n",
      "  loss = (1/np.shape(X)[0])*np.linalg.norm(X@theta-y)\n",
      "/var/folders/gb/zw91jmc17d950cfmd43jqc7c0000gn/T/ipykernel_1438/4033647080.py:200: RuntimeWarning: overflow encountered in multiply\n",
      "  grad = (2/np.shape(X)[0])*(X.T@X@theta-X.T@y)+ 2*lambda_reg*theta\n",
      "/var/folders/gb/zw91jmc17d950cfmd43jqc7c0000gn/T/ipykernel_1438/4033647080.py:228: RuntimeWarning: invalid value encountered in subtract\n",
      "  theta_hist[i+1,:] = theta_hist[i,:] - alpha * compute_regularized_square_loss_gradient(X, y, theta_hist[i,:], lambda_reg)\n"
     ]
    },
    {
     "data": {
      "image/png": "[encoded data removed]",
      "text/plain": [
       "<Figure size 432x288 with 1 Axes>"
      ]
     },
     "metadata": {
      "needs_background": "light"
     },
     "output_type": "display_data"
    },
    {
     "data": {
      "image/png": "[encoded data removed]",
      "text/plain": [
       "<Figure size 432x288 with 1 Axes>"
      ]
     },
     "metadata": {
      "needs_background": "light"
     },
     "output_type": "display_data"
    },
    {
     "data": {
      "image/png": "[encoded data removed]",
      "text/plain": [
       "<Figure size 432x288 with 1 Axes>"
      ]
     },
     "metadata": {
      "needs_background": "light"
     },
     "output_type": "display_data"
    },
    {
     "data": {
      "image/png": "[encoded data removed]",
      "text/plain": [
       "<Figure size 432x288 with 1 Axes>"
      ]
     },
     "metadata": {
      "needs_background": "light"
     },
     "output_type": "display_data"
    },
    {
     "data": {
      "image/png": "[encoded data removed]",
      "text/plain": [
       "<Figure size 432x288 with 1 Axes>"
      ]
     },
     "metadata": {
      "needs_background": "light"
     },
     "output_type": "display_data"
    },
    {
     "data": {
      "image/png": "[encoded data removed]",
      "text/plain": [
       "<Figure size 432x288 with 1 Axes>"
      ]
     },
     "metadata": {
      "needs_background": "light"
     },
     "output_type": "display_data"
    },
    {
     "data": {
      "image/png": "[encoded data removed]",
      "text/plain": [
       "<Figure size 432x288 with 1 Axes>"
      ]
     },
     "metadata": {
      "needs_background": "light"
     },
     "output_type": "display_data"
    }
   ],
   "source": [
    "# 17 \n",
    "lamb = [10**-7,10**-5,10**-3,10**-1,1,10,100]\n",
    "step_size = 0.05\n",
    "\n",
    "\n",
    "\n",
    "theta_1, loss_1 = regularized_grad_descent(X_train, y_train, alpha=0.05, lambda_reg=10**-7, num_step=1000)\n",
    "test_theta_1, test_loss_1 = regularized_grad_descent(X_test, y_test, alpha=0.05, lambda_reg=10**-7, num_step=1000)\n",
    "\n",
    "\n",
    "theta_2, loss_2 = regularized_grad_descent(X_train, y_train, alpha=0.05, lambda_reg=10**-5, num_step=1000)\n",
    "test_theta_2, test_loss_2 = regularized_grad_descent(X_test, y_test, alpha=0.05, lambda_reg=10**-5, num_step=1000)\n",
    "\n",
    "theta_3, loss_3 = regularized_grad_descent(X_train, y_train, alpha=0.05, lambda_reg=10**-3, num_step=1000)\n",
    "test_theta_3, test_loss_3 = regularized_grad_descent(X_test, y_test, alpha=0.05, lambda_reg=10**-3, num_step=1000)\n",
    "\n",
    "theta_4, loss_4 = regularized_grad_descent(X_train, y_train, alpha=0.05, lambda_reg=10**-1, num_step=1000)\n",
    "test_theta_4, test_loss_4 = regularized_grad_descent(X_test, y_test, alpha=0.05, lambda_reg=10**-1, num_step=1000)\n",
    "\n",
    "theta_5, loss_5 = regularized_grad_descent(X_train, y_train, alpha=0.05, lambda_reg=1, num_step=1000)\n",
    "test_theta_5, test_loss_5 = regularized_grad_descent(X_test, y_test, alpha=0.05, lambda_reg=1, num_step=1000)\n",
    "\n",
    "theta_6, loss_6 = regularized_grad_descent(X_train, y_train, alpha=0.05, lambda_reg=10, num_step=1000)\n",
    "test_theta_6, test_loss_6 = regularized_grad_descent(X_test, y_test, alpha=0.05, lambda_reg=10, num_step=1000)\n",
    "\n",
    "theta_7, loss_7 = regularized_grad_descent(X_train, y_train, alpha=0.05, lambda_reg=100, num_step=1000)\n",
    "test_theta_7, test_loss_7 = regularized_grad_descent(X_test, y_test, alpha=0.05, lambda_reg=100, num_step=1000)\n",
    "\n",
    "# plot\n",
    "plt.figure(1)\n",
    "plt.plot([i for i in range(1,1002)],loss_1)\n",
    "plt.plot([i for i in range(1,1002)],test_loss_1)\n",
    "plt.title('lambda = 10^-7')\n",
    "plt.legend(['train loss','test loss'])\n",
    "\n",
    "plt.figure(2)\n",
    "plt.plot([i for i in range(1,1002)],loss_2)\n",
    "plt.plot([i for i in range(1,1002)],test_loss_2)\n",
    "plt.title('lambda = 10^-5')\n",
    "plt.legend(['train loss','test loss'])\n",
    "\n",
    "\n",
    "\n",
    "plt.figure(3)\n",
    "plt.plot([i for i in range(1,1002)],loss_3)\n",
    "plt.plot([i for i in range(1,1002)],test_loss_3)\n",
    "plt.title('lambda = 10^-3')\n",
    "plt.legend(['train loss','test loss'])\n",
    "\n",
    "\n",
    "\n",
    "plt.figure(4)\n",
    "plt.plot([i for i in range(1,1002)],loss_4)\n",
    "plt.plot([i for i in range(1,1002)],test_loss_4)\n",
    "plt.title('lambda = 10^-1')\n",
    "plt.legend(['train loss','test loss'])\n",
    "\n",
    "\n",
    "\n",
    "plt.figure(5)\n",
    "plt.plot([i for i in range(1,1002)],loss_5)\n",
    "plt.plot([i for i in range(1,1002)],test_loss_5)\n",
    "plt.title('lambda = 1')\n",
    "plt.legend(['train loss','test loss'])\n",
    "\n",
    "\n",
    "plt.figure(6)\n",
    "plt.plot([i for i in range(1,1002)],loss_6)\n",
    "plt.plot([i for i in range(1,1002)],test_loss_6)\n",
    "plt.title('lambda = 10')\n",
    "plt.legend(['train loss','test loss'])\n",
    "\n",
    "plt.figure(7)\n",
    "plt.plot([i for i in range(1,1002)],loss_7)\n",
    "plt.plot([i for i in range(1,1002)],test_loss_7)\n",
    "plt.title('lambda = 100')\n",
    "plt.legend(['train loss','test loss'])\n",
    "\n",
    "plt.show()\n",
    "\n"
   ]
  },
  {
   "cell_type": "code",
   "execution_count": 70,
   "id": "PCtQdArDJ4gI",
   "metadata": {
    "id": "PCtQdArDJ4gI"
   },
   "outputs": [
    {
     "name": "stdout",
     "output_type": "stream",
     "text": [
      "[-1.56740547  0.64957411  1.43411523  3.81074791 -3.11313547 -0.44780217\n",
      " -0.98535688 -0.98535688  1.29066016  1.46620997  3.83840337 -1.2160442\n",
      " -0.6854044  -5.37957372  1.89904081  3.45876795  1.21540316  0.55426064\n",
      " -0.06722567 -0.06722567 -0.06722567 -0.0456603  -0.0456603  -0.0456603\n",
      " -0.02986982 -0.02986982 -0.02986982 -0.02117431 -0.02117431 -0.02117431\n",
      " -0.01591203 -0.01591203 -0.01591203 -0.20196734 -0.20196734 -0.20196734\n",
      " -0.02448222 -0.02448222 -0.02448222 -0.01507332 -0.01507332 -0.01507332\n",
      " -0.01051537 -0.01051537 -0.01051537 -0.00792837 -0.00792837 -0.00792837\n",
      " -1.16239164]\n"
     ]
    },
    {
     "data": {
      "text/plain": [
       "Text(0.5, 1.0, 'test and train_losses')"
      ]
     },
     "execution_count": 70,
     "metadata": {},
     "output_type": "execute_result"
    },
    {
     "data": {
      "image/png": "[encoded data removed]",
      "text/plain": [
       "<Figure size 432x288 with 1 Axes>"
      ]
     },
     "metadata": {
      "needs_background": "light"
     },
     "output_type": "display_data"
    }
   ],
   "source": [
    "# 18\n",
    "lamb = [10**-7,10**-5,10**-3,10**-1,1,10,100]\n",
    "step_size = 0.05\n",
    "\n",
    "train_losses = [loss_1[-1],loss_2[-1],loss_3[-1],loss_4[-1],loss_5[-1],loss_6[-1],loss_7[-1]]\n",
    "testloss_1 = compute_square_loss(X_test, y_test, theta_1[-1,:])\n",
    "testloss_2 = compute_square_loss(X_test, y_test, theta_2[-1,:])\n",
    "testloss_3 = compute_square_loss(X_test, y_test, theta_3[-1,:])\n",
    "testloss_4 = compute_square_loss(X_test, y_test, theta_4[-1,:])\n",
    "testloss_5 = compute_square_loss(X_test, y_test, theta_5[-1,:])\n",
    "testloss_6 = compute_square_loss(X_test, y_test, theta_6[-1,:])\n",
    "testloss_7 = compute_square_loss(X_test, y_test, theta_7[-1,:])\n",
    "\n",
    "testloss = [testloss_1,testloss_2,testloss_3,testloss_4,testloss_5,testloss_6,testloss_7]\n",
    "\n",
    "\n",
    "axis = [i for i in range(len(testloss))]\n",
    "plt.figure(1)\n",
    "plt.plot(axis,testloss)\n",
    "plt.plot(axis,train_losses)\n",
    "plt.title('test and train_losses')"
   ]
  },
  {
   "cell_type": "code",
   "execution_count": 69,
   "id": "ybF86xR6J4iX",
   "metadata": {
    "id": "ybF86xR6J4iX"
   },
   "outputs": [
    {
     "data": {
      "image/png": "[encoded data removed]",
      "text/plain": [
       "<Figure size 432x288 with 1 Axes>"
      ]
     },
     "metadata": {
      "needs_background": "light"
     },
     "output_type": "display_data"
    },
    {
     "name": "stdout",
     "output_type": "stream",
     "text": [
      "[0.17039417759869976, 0.17037706800576982, 0.16874662995881043, 0.1719799689230193, 1.451135768834675e+31, inf, nan]\n"
     ]
    },
    {
     "data": {
      "image/png": "[encoded data removed]",
      "text/plain": [
       "<Figure size 432x288 with 1 Axes>"
      ]
     },
     "metadata": {
      "needs_background": "light"
     },
     "output_type": "display_data"
    }
   ],
   "source": [
    "  # 19\n",
    "\n",
    "\n",
    "loss1_entire  = np.min(test_loss_1)\n",
    "loss2_entire  = np.min(test_loss_2)\n",
    "loss3_entire  = np.min(test_loss_3)\n",
    "loss4_entire  = np.min(test_loss_4)\n",
    "loss5_entire  = np.min(test_loss_5)\n",
    "loss6_entire  = np.min(test_loss_6)\n",
    "loss7_entire  = np.min(test_loss_7)\n",
    "\n",
    "\n",
    "entire = [loss1_entire,loss2_entire,loss3_entire,loss4_entire,loss5_entire,loss6_entire,loss7_entire]\n",
    "\n",
    "plt.figure(1)\n",
    "plt.plot(axis,testloss)\n",
    "plt.plot(axis,entire)\n",
    "plt.legend(['loss','early-stop'])\n",
    "plt.show()\n",
    "\n",
    "\n",
    "# Early Stop\n",
    "plt.figure(2)\n",
    "plt.plot(axis,entire)\n",
    "plt.title('Early Stop one graph')\n",
    "\n",
    "print(testloss)\n",
    "print('10^-3 gives the least loss among all, so we choose 10^-3')"
   ]
  },
  {
   "cell_type": "code",
   "execution_count": null,
   "id": "hDIZNu9KpHAJ",
   "metadata": {
    "id": "hDIZNu9KpHAJ"
   },
   "outputs": [],
   "source": [
    "#20 would use"
   ]
  },
  {
   "cell_type": "code",
   "execution_count": null,
   "id": "wnEKR6prJ2gy",
   "metadata": {
    "id": "wnEKR6prJ2gy"
   },
   "outputs": [],
   "source": [
    "# 21"
   ]
  },
  {
   "cell_type": "code",
   "execution_count": 95,
   "id": "eDnSdd5IfTJO",
   "metadata": {
    "id": "eDnSdd5IfTJO"
   },
   "outputs": [
    {
     "ename": "ValueError",
     "evalue": "matmul: Input operand 0 does not have enough dimensions (has 0, gufunc core with signature (n?,k),(k,m?)->(n?,m?) requires 1)",
     "output_type": "error",
     "traceback": [
      "\u001B[0;31m---------------------------------------------------------------------------\u001B[0m",
      "\u001B[0;31mValueError\u001B[0m                                Traceback (most recent call last)",
      "\u001B[0;32m/var/folders/gb/zw91jmc17d950cfmd43jqc7c0000gn/T/ipykernel_1438/822060702.py\u001B[0m in \u001B[0;36m<module>\u001B[0;34m\u001B[0m\n\u001B[1;32m      6\u001B[0m \u001B[0;34m\u001B[0m\u001B[0m\n\u001B[1;32m      7\u001B[0m \u001B[0;34m\u001B[0m\u001B[0m\n\u001B[0;32m----> 8\u001B[0;31m \u001B[0mtheta_1\u001B[0m\u001B[0;34m,\u001B[0m \u001B[0mloss_1\u001B[0m \u001B[0;34m=\u001B[0m \u001B[0mstochastic_grad_descent\u001B[0m\u001B[0;34m(\u001B[0m\u001B[0mX_train\u001B[0m\u001B[0;34m,\u001B[0m \u001B[0my_train\u001B[0m\u001B[0;34m,\u001B[0m \u001B[0malpha\u001B[0m\u001B[0;34m=\u001B[0m\u001B[0;36m0.05\u001B[0m\u001B[0;34m,\u001B[0m \u001B[0mlambda_reg\u001B[0m\u001B[0;34m=\u001B[0m\u001B[0;36m10\u001B[0m\u001B[0;34m**\u001B[0m\u001B[0;34m-\u001B[0m\u001B[0;36m3\u001B[0m\u001B[0;34m,\u001B[0m \u001B[0mnum_epoch\u001B[0m\u001B[0;34m=\u001B[0m\u001B[0;36m1000\u001B[0m\u001B[0;34m,\u001B[0m \u001B[0meta0\u001B[0m\u001B[0;34m=\u001B[0m\u001B[0;32mFalse\u001B[0m\u001B[0;34m)\u001B[0m\u001B[0;34m\u001B[0m\u001B[0;34m\u001B[0m\u001B[0m\n\u001B[0m\u001B[1;32m      9\u001B[0m \u001B[0mtheta_2\u001B[0m\u001B[0;34m,\u001B[0m \u001B[0mloss_2\u001B[0m \u001B[0;34m=\u001B[0m \u001B[0mstochastic_grad_descent\u001B[0m\u001B[0;34m(\u001B[0m\u001B[0mX_train\u001B[0m\u001B[0;34m,\u001B[0m \u001B[0my_train\u001B[0m\u001B[0;34m,\u001B[0m \u001B[0malpha\u001B[0m\u001B[0;34m=\u001B[0m\u001B[0;36m0.005\u001B[0m\u001B[0;34m,\u001B[0m \u001B[0mlambda_reg\u001B[0m\u001B[0;34m=\u001B[0m\u001B[0;36m10\u001B[0m\u001B[0;34m**\u001B[0m\u001B[0;34m-\u001B[0m\u001B[0;36m3\u001B[0m\u001B[0;34m,\u001B[0m \u001B[0mnum_epoch\u001B[0m\u001B[0;34m=\u001B[0m\u001B[0;36m1000\u001B[0m\u001B[0;34m,\u001B[0m \u001B[0meta0\u001B[0m\u001B[0;34m=\u001B[0m\u001B[0;32mFalse\u001B[0m\u001B[0;34m)\u001B[0m\u001B[0;34m\u001B[0m\u001B[0;34m\u001B[0m\u001B[0m\n\u001B[1;32m     10\u001B[0m \u001B[0;34m\u001B[0m\u001B[0m\n",
      "\u001B[0;32m/var/folders/gb/zw91jmc17d950cfmd43jqc7c0000gn/T/ipykernel_1438/1057507513.py\u001B[0m in \u001B[0;36mstochastic_grad_descent\u001B[0;34m(X, y, alpha, lambda_reg, num_epoch, eta0)\u001B[0m\n\u001B[1;32m    274\u001B[0m         \u001B[0;32mfor\u001B[0m \u001B[0mj\u001B[0m \u001B[0;32min\u001B[0m \u001B[0mrange\u001B[0m\u001B[0;34m(\u001B[0m\u001B[0mnum_instances\u001B[0m\u001B[0;34m)\u001B[0m\u001B[0;34m:\u001B[0m\u001B[0;34m\u001B[0m\u001B[0;34m\u001B[0m\u001B[0m\n\u001B[1;32m    275\u001B[0m             \u001B[0mpick_X\u001B[0m \u001B[0;34m=\u001B[0m \u001B[0mnp\u001B[0m\u001B[0;34m.\u001B[0m\u001B[0marray\u001B[0m\u001B[0;34m(\u001B[0m\u001B[0mX\u001B[0m\u001B[0;34m[\u001B[0m\u001B[0mk\u001B[0m\u001B[0;34m,\u001B[0m\u001B[0;34m:\u001B[0m\u001B[0;34m]\u001B[0m\u001B[0;34m)\u001B[0m\u001B[0;34m\u001B[0m\u001B[0;34m\u001B[0m\u001B[0m\n\u001B[0;32m--> 276\u001B[0;31m             \u001B[0mtheta_hist\u001B[0m\u001B[0;34m[\u001B[0m\u001B[0mi\u001B[0m\u001B[0;34m+\u001B[0m\u001B[0;36m1\u001B[0m\u001B[0;34m,\u001B[0m\u001B[0mj\u001B[0m\u001B[0;34m+\u001B[0m\u001B[0;36m1\u001B[0m\u001B[0;34m,\u001B[0m\u001B[0;34m:\u001B[0m\u001B[0;34m]\u001B[0m \u001B[0;34m=\u001B[0m \u001B[0;34m(\u001B[0m\u001B[0;36m2\u001B[0m\u001B[0;34m)\u001B[0m\u001B[0;34m*\u001B[0m\u001B[0;34m(\u001B[0m\u001B[0mpick_X\u001B[0m\u001B[0;34m.\u001B[0m\u001B[0mT\u001B[0m\u001B[0;34m@\u001B[0m\u001B[0mpick_X\u001B[0m\u001B[0;34m@\u001B[0m\u001B[0mtheta\u001B[0m\u001B[0;34m-\u001B[0m\u001B[0mpick_X\u001B[0m\u001B[0;34m.\u001B[0m\u001B[0mT\u001B[0m\u001B[0;34m@\u001B[0m\u001B[0my\u001B[0m\u001B[0;34m)\u001B[0m\u001B[0;34m+\u001B[0m \u001B[0;36m2\u001B[0m\u001B[0;34m*\u001B[0m\u001B[0mlambda_reg\u001B[0m\u001B[0;34m*\u001B[0m\u001B[0mtheta\u001B[0m\u001B[0;34m\u001B[0m\u001B[0;34m\u001B[0m\u001B[0m\n\u001B[0m\u001B[1;32m    277\u001B[0m \u001B[0;31m#             theta_hist[i,j,:] - alpha * compute_regularized_square_loss_gradient(pick_X, y[k],theta_hist[i,j,:], lambda_reg=lambda_reg)\u001B[0m\u001B[0;34m\u001B[0m\u001B[0;34m\u001B[0m\u001B[0m\n\u001B[1;32m    278\u001B[0m             \u001B[0mloss_hist\u001B[0m\u001B[0;34m[\u001B[0m\u001B[0mi\u001B[0m\u001B[0;34m+\u001B[0m\u001B[0;36m1\u001B[0m\u001B[0;34m,\u001B[0m\u001B[0mj\u001B[0m\u001B[0;34m+\u001B[0m\u001B[0;36m1\u001B[0m\u001B[0;34m]\u001B[0m \u001B[0;34m=\u001B[0m \u001B[0mcompute_square_loss\u001B[0m\u001B[0;34m(\u001B[0m\u001B[0mpick_X\u001B[0m\u001B[0;34m,\u001B[0m \u001B[0my\u001B[0m\u001B[0;34m[\u001B[0m\u001B[0mk\u001B[0m\u001B[0;34m]\u001B[0m\u001B[0;34m,\u001B[0m \u001B[0mtheta_hist\u001B[0m\u001B[0;34m[\u001B[0m\u001B[0mi\u001B[0m\u001B[0;34m+\u001B[0m\u001B[0;36m1\u001B[0m\u001B[0;34m,\u001B[0m\u001B[0mj\u001B[0m\u001B[0;34m+\u001B[0m\u001B[0;36m1\u001B[0m\u001B[0;34m,\u001B[0m\u001B[0;34m:\u001B[0m\u001B[0;34m]\u001B[0m\u001B[0;34m)\u001B[0m\u001B[0;34m\u001B[0m\u001B[0;34m\u001B[0m\u001B[0m\n",
      "\u001B[0;31mValueError\u001B[0m: matmul: Input operand 0 does not have enough dimensions (has 0, gufunc core with signature (n?,k),(k,m?)->(n?,m?) requires 1)"
     ]
    }
   ],
   "source": [
    "#25\n",
    "lamb_ans = 10**-3\n",
    "\n",
    "# For case of fixed step size\n",
    "# It is possible that the result does not converge\n",
    "\n",
    "\n",
    "theta_1, loss_1 = stochastic_grad_descent(X_train, y_train, alpha=0.05, lambda_reg=10**-3, num_epoch=1000, eta0=False)\n",
    "theta_2, loss_2 = stochastic_grad_descent(X_train, y_train, alpha=0.005, lambda_reg=10**-3, num_epoch=1000, eta0=False)\n",
    "\n",
    "print(loss_1)\n",
    "print(loss_2)\n"
   ]
  },
  {
   "cell_type": "code",
   "execution_count": 106,
   "id": "mwSoQusZfSSe",
   "metadata": {
    "id": "mwSoQusZfSSe"
   },
   "outputs": [],
   "source": [
    "# 28\n",
    "\n",
    "from sklearn.datasets import fetch_openml\n",
    "from sklearn.linear_model import SGDClassifier\n",
    "from sklearn.model_selection import train_test_split\n",
    "from sklearn.preprocessing import StandardScaler\n",
    "\n",
    "\n",
    "def pre_process_mnist_01():\n",
    "    \"\"\"\n",
    "    Load the mnist datasets, selects the classes 0 and 1 \n",
    "    and normalize the data.\n",
    "    Args: none\n",
    "    Outputs: \n",
    "        X_train: np.array of size (n_training_samples, n_features)\n",
    "        X_test: np.array of size (n_test_samples, n_features)\n",
    "        y_train: np.array of size (n_training_samples)\n",
    "        y_test: np.array of size (n_test_samples)\n",
    "    \"\"\"\n",
    "    X_mnist, y_mnist = fetch_openml('mnist_784', version=1, \n",
    "                                    return_X_y=True, as_frame=False)\n",
    "    indicator_01 = (y_mnist == '0') + (y_mnist == '1')\n",
    "    X_mnist_01 = X_mnist[indicator_01]\n",
    "    y_mnist_01 = y_mnist[indicator_01]\n",
    "    X_train, X_test, y_train, y_test = train_test_split(X_mnist_01, y_mnist_01,\n",
    "                                                        test_size=0.33,\n",
    "                                                        shuffle=False)\n",
    "\n",
    "    scaler = StandardScaler()\n",
    "    X_train = scaler.fit_transform(X_train) \n",
    "    X_test = scaler.transform(X_test)\n",
    "\n",
    "    y_test = 2 * np.array([int(y) for y in y_test]) - 1\n",
    "    y_train = 2 * np.array([int(y) for y in y_train]) - 1\n",
    "    return X_train, X_test, y_train, y_test\n",
    "\n",
    "\n",
    "def sub_sample(N_train, X_train, y_train):\n",
    "    \"\"\"\n",
    "    Subsample the training data to keep only N first elements\n",
    "    Args: none\n",
    "    Outputs: \n",
    "        X_train: np.array of size (n_training_samples, n_features)\n",
    "        X_test: np.array of size (n_test_samples, n_features)\n",
    "        y_train: np.array of size (n_training_samples)\n",
    "        y_test: np.array of size (n_test_samples)\n",
    "    \"\"\"\n",
    "    assert N_train <= X_train.shape[0]\n",
    "    return X_train[:N_train, :], y_train[:N_train]\n",
    "\n",
    "def classification_error(clf, X, y):\n",
    "    # TODO\n",
    "    y_pred = clf.predict(X)\n",
    "    err = 0\n",
    "    for i in range(len(y_pred)):\n",
    "        if y_pred[i] != y[i]:\n",
    "            err += 1\n",
    "    return err/len(y_pred)\n",
    "\n",
    "\n"
   ]
  },
  {
   "cell_type": "code",
   "execution_count": 107,
   "id": "ba8cfc10",
   "metadata": {},
   "outputs": [
    {
     "name": "stdout",
     "output_type": "stream",
     "text": [
      "-- Epoch 1\n",
      "Norm: 0.69, NNZs: 288, Bias: -0.006713, T: 9902, Avg. loss: 0.042017\n",
      "Total training time: 0.03 seconds.\n",
      "-- Epoch 2\n",
      "Norm: 0.78, NNZs: 269, Bias: -0.007579, T: 19804, Avg. loss: 0.032261\n",
      "Total training time: 0.05 seconds.\n",
      "-- Epoch 3\n",
      "Norm: 0.84, NNZs: 251, Bias: -0.007797, T: 29706, Avg. loss: 0.030504\n",
      "Total training time: 0.08 seconds.\n",
      "-- Epoch 4\n",
      "Norm: 0.88, NNZs: 243, Bias: -0.007784, T: 39608, Avg. loss: 0.029635\n",
      "Total training time: 0.10 seconds.\n",
      "-- Epoch 5\n",
      "Norm: 0.92, NNZs: 233, Bias: -0.007634, T: 49510, Avg. loss: 0.028988\n",
      "Total training time: 0.13 seconds.\n",
      "-- Epoch 6\n",
      "Norm: 0.96, NNZs: 223, Bias: -0.007393, T: 59412, Avg. loss: 0.028586\n",
      "Total training time: 0.16 seconds.\n",
      "-- Epoch 7\n",
      "Norm: 0.99, NNZs: 217, Bias: -0.007110, T: 69314, Avg. loss: 0.028228\n",
      "Total training time: 0.18 seconds.\n",
      "-- Epoch 8\n",
      "Norm: 1.01, NNZs: 210, Bias: -0.006798, T: 79216, Avg. loss: 0.027858\n",
      "Total training time: 0.21 seconds.\n",
      "Convergence after 8 epochs took 0.21 seconds\n",
      "train:  0.0020197939810139365\ttest:  0.0012300123001230013\n"
     ]
    }
   ],
   "source": [
    "X_train, X_test, y_train, y_test = pre_process_mnist_01()\n",
    "\n",
    "clf = SGDClassifier(loss='log', max_iter=1000, \n",
    "                    tol=1e-3,\n",
    "                    penalty='l1', alpha=0.01, \n",
    "                    learning_rate='invscaling', \n",
    "                    power_t=0.5,                \n",
    "                    eta0=0.01,\n",
    "                    verbose=1)\n",
    "clf.fit(X_train, y_train)\n",
    "\n",
    "\n",
    "\n",
    "\n",
    "# test = classification_error(clf, X_test, y_test)\n",
    "# train = classification_error(clf, X_train, y_train)\n",
    "# print('train: ', train, end='\\t')\n",
    "# print('test: ', test)"
   ]
  },
  {
   "cell_type": "code",
   "execution_count": 105,
   "id": "28d53940",
   "metadata": {},
   "outputs": [
    {
     "name": "stdout",
     "output_type": "stream",
     "text": [
      "(9902, 784)\n"
     ]
    },
    {
     "data": {
      "text/plain": [
       "<matplotlib.image.AxesImage at 0x7f8d8a01a5b0>"
      ]
     },
     "execution_count": 105,
     "metadata": {},
     "output_type": "execute_result"
    },
    {
     "data": {
      "image/png": "[encoded data removed]",
      "text/plain": [
       "<Figure size 432x288 with 1 Axes>"
      ]
     },
     "metadata": {
      "needs_background": "light"
     },
     "output_type": "display_data"
    }
   ],
   "source": [
    "print(np.shape(X_train))\n",
    "a = X_train[1,:]\n",
    "b = a.reshape((28,28))\n",
    "plt.imshow(b)"
   ]
  },
  {
   "cell_type": "code",
   "execution_count": 108,
   "id": "4ab0ab9d",
   "metadata": {},
   "outputs": [
    {
     "name": "stdout",
     "output_type": "stream",
     "text": [
      "train:  0.0020197939810139365\ttest:  0.0012300123001230013\n"
     ]
    }
   ],
   "source": [
    "# 28\n",
    "test = classification_error(clf, X_test, y_test)\n",
    "train = classification_error(clf, X_train, y_train)\n",
    "print('train: ', train, end='\\t')\n",
    "print('test: ', test)"
   ]
  },
  {
   "cell_type": "code",
   "execution_count": 162,
   "id": "c65f2018",
   "metadata": {},
   "outputs": [],
   "source": [
    "# 29\n",
    "N_train = 100\n",
    "\n",
    "s_X_train, s_y_train = sub_sample(N_train, X_train, y_train)"
   ]
  },
  {
   "cell_type": "code",
   "execution_count": 163,
   "id": "3a3f80c8",
   "metadata": {},
   "outputs": [
    {
     "name": "stdout",
     "output_type": "stream",
     "text": [
      "[0.0001, 0.0005, 0.0008, 0.001, 0.002, 0.003, 0.03, 0.05, 0.08, 0.1]\n"
     ]
    }
   ],
   "source": [
    "alpha = [1e-4,5*1e-4, 8*1e-4,1e-3,3* 1e-3, 2*1e-3,8*1e-2,5*1e-2,3*1e-2,1e-1]\n",
    "alpha.sort()\n",
    "print(alpha)"
   ]
  },
  {
   "cell_type": "code",
   "execution_count": 168,
   "id": "a25dd967",
   "metadata": {},
   "outputs": [
    {
     "data": {
      "text/plain": [
       "<matplotlib.legend.Legend at 0x7f8da87c2be0>"
      ]
     },
     "execution_count": 168,
     "metadata": {},
     "output_type": "execute_result"
    },
    {
     "data": {
      "image/png": "[encoded data removed]",
      "text/plain": [
       "<Figure size 432x288 with 1 Axes>"
      ]
     },
     "metadata": {
      "needs_background": "light"
     },
     "output_type": "display_data"
    }
   ],
   "source": [
    "err_mean = np.zeros(10)\n",
    "err_std = np.zeros(10)\n",
    "for i,al in enumerate(alpha):\n",
    "    err_storage = []\n",
    "    for j in range(10):\n",
    "        clf = SGDClassifier(loss='log', max_iter=1000, \n",
    "                            tol=1e-3,\n",
    "                            penalty='l1', alpha=al, \n",
    "                            learning_rate='invscaling', \n",
    "                            power_t=0.5,                \n",
    "                            eta0=0.01,\n",
    "                            verbose=0)\n",
    "        \n",
    "        clf.fit(s_X_train,s_y_train)\n",
    "        \n",
    "        error_one = classification_error(clf,X_test,y_test)\n",
    "        err_storage.append(error_one)\n",
    "    err_mean[i] = np.mean(np.array(err_storage))\n",
    "    err_std[i] = np.std(np.array(err_storage))\n",
    "\n",
    "axis = np.log(alpha)\n",
    "plt.errorbar(axis,err_mean)\n",
    "plt.errorbar(axis,err_std)\n",
    "plt.legend(['mean','std_dev'])\n"
   ]
  },
  {
   "cell_type": "code",
   "execution_count": 175,
   "id": "c649b9f6",
   "metadata": {},
   "outputs": [
    {
     "name": "stdout",
     "output_type": "stream",
     "text": [
      "(1, 784)\n"
     ]
    },
    {
     "data": {
      "text/plain": [
       "<matplotlib.image.AxesImage at 0x7f8d89afb2e0>"
      ]
     },
     "execution_count": 175,
     "metadata": {},
     "output_type": "execute_result"
    },
    {
     "data": {
      "image/png": "[encoded data removed]",
      "text/plain": [
       "<Figure size 432x288 with 1 Axes>"
      ]
     },
     "metadata": {
      "needs_background": "light"
     },
     "output_type": "display_data"
    }
   ],
   "source": [
    "# 30\n",
    "# For one try for alpha = 10**-1\n",
    "theta = clf.coef_\n",
    "print(np.shape(theta))\n",
    "\n",
    "plt.imshow(redefine)\n"
   ]
  },
  {
   "cell_type": "code",
   "execution_count": null,
   "id": "7070e84c",
   "metadata": {},
   "outputs": [],
   "source": []
  }
 ],
 "metadata": {
  "colab": {
   "name": "Yunseok_Jang_hw.ipynb",
   "provenance": []
  },
  "kernelspec": {
   "display_name": "Python 3 (ipykernel)",
   "language": "python",
   "name": "python3"
  },
  "language_info": {
   "codemirror_mode": {
    "name": "ipython",
    "version": 3
   },
   "file_extension": ".py",
   "mimetype": "text/x-python",
   "name": "python",
   "nbconvert_exporter": "python",
   "pygments_lexer": "ipython3",
   "version": "3.9.7"
  }
 },
 "nbformat": 4,
 "nbformat_minor": 5
}