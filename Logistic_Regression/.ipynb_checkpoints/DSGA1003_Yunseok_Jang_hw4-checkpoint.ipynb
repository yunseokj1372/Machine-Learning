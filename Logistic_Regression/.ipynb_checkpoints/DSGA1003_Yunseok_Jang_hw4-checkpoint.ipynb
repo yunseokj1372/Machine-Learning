{
 "cells": [
  {
   "cell_type": "code",
   "execution_count": 1,
   "id": "5620a469",
   "metadata": {},
   "outputs": [],
   "source": [
    "import numpy as np\n",
    "import matplotlib.pyplot as plt\n",
    "from scipy.optimize import minimize\n",
    "import pandas as pd"
   ]
  },
  {
   "cell_type": "code",
   "execution_count": 2,
   "id": "d228e390",
   "metadata": {},
   "outputs": [],
   "source": [
    "def f_objective(theta, X, y, l2_param=1):\n",
    "    '''\n",
    "    Args:\n",
    "        theta: 1D numpy array of size num_features\n",
    "        X: 2D numpy array of size (num_instances, num_features)\n",
    "        y: 1D numpy array of size num_instances\n",
    "        l2_param: regularization parameter\n",
    "\n",
    "    Returns:\n",
    "        objective: scalar value of objective function\n",
    "    '''\n",
    "    n = len(X)\n",
    "    J = (1/n) * np.sum(np.logaddexp(0, -y * np.dot(theta, X.T))) \n",
    "    J += l2_param*np.linalg.norm(theta)**2\n",
    "    \n",
    "    return J\n",
    "    \n",
    "def fit_logistic_reg(X, y, objective_function, l2_param=1):\n",
    "    '''\n",
    "    Args:\n",
    "        X: 2D numpy array of size (num_instances, num_features)\n",
    "        y: 1D numpy array of size num_instances\n",
    "        objective_function: function returning the value of the objective\n",
    "        l2_param: regularization parameter\n",
    "        \n",
    "    Returns:\n",
    "        optimal_theta: 1D numpy array of size num_features\n",
    "    '''\n",
    "    theta = np.zeros((np.shape(X)[1],1))\n",
    "    theta = minimize(objective_function,theta, args = (X,y, l2_param) )\n",
    "    \n",
    "    return theta['x']\n",
    "    "
   ]
  },
  {
   "cell_type": "markdown",
   "id": "b077a023",
   "metadata": {},
   "source": [
    "# 6."
   ]
  },
  {
   "cell_type": "code",
   "execution_count": 3,
   "id": "892c3934",
   "metadata": {},
   "outputs": [],
   "source": [
    "# Using the feature_normalization function from previous hw\n",
    "def feature_normalization(train, test):\n",
    "    \"\"\"Rescale the data so that each feature in the training set is in\n",
    "    the interval [0,1], and apply the same transformations to the test\n",
    "    set, using the statistics computed on the training set.\n",
    "\n",
    "    Args:\n",
    "        train - training set, a 2D numpy array of size(num_instances, num_features)\n",
    "        test - test set, a 2D numpy array of size(num_instances, num_features)\n",
    "\n",
    "    Returns:\n",
    "        train_normalized - training set after normalization\n",
    "        test_normalized - test set after normalization\n",
    "    \"\"\"\n",
    "    maxx = train.max(axis=0)\n",
    "    minx = train.min(axis=0)\n",
    "    \n",
    "    # For sake of constant filtering\n",
    "    cs = minx != maxx\n",
    "    \n",
    "    train_filt = train[:,cs]\n",
    "    \n",
    "    train_normalized = (train_filt-minx)/(maxx-minx)\n",
    "    test_normalized = (test-minx)/(maxx-minx)\n",
    "    return train_normalized, test_normalized"
   ]
  },
  {
   "cell_type": "code",
   "execution_count": 4,
   "id": "4da9234c",
   "metadata": {},
   "outputs": [],
   "source": [
    "# Importing data and Standardizing\n",
    "\n",
    "\n",
    "X_train = np.loadtxt('/Users/ryanjang123/Documents/hw4/logistic-code/X_train.txt', delimiter = ',')\n",
    "X_val = np.loadtxt('/Users/ryanjang123/Documents/hw4/logistic-code/X_val.txt', delimiter = ',')\n",
    "y_train = np.loadtxt('/Users/ryanjang123/Documents/hw4/logistic-code/y_train.txt', delimiter = ',')\n",
    "y_val = np.loadtxt('/Users/ryanjang123/Documents/hw4/logistic-code/y_val.txt', delimiter = ',')\n",
    "\n",
    "X_train, X_val = feature_normalization(X_train,X_val)\n",
    "\n",
    "\n",
    "X_train = np.hstack((X_train, np.ones((X_train.shape[0], 1))))  # Add bias term\n",
    "X_val = np.hstack((X_val, np.ones((X_val.shape[0], 1))))\n",
    "y_train[y_train == 0] = -1  \n",
    "y_val[y_val == 0] = -1 "
   ]
  },
  {
   "cell_type": "code",
   "execution_count": 5,
   "id": "dc6a5fe6",
   "metadata": {},
   "outputs": [
    {
     "data": {
      "text/plain": [
       "((1600, 21), (1600,))"
      ]
     },
     "execution_count": 5,
     "metadata": {},
     "output_type": "execute_result"
    }
   ],
   "source": [
    "np.shape(X_train), np.shape(y_train)"
   ]
  },
  {
   "cell_type": "code",
   "execution_count": 6,
   "id": "7ffe70da",
   "metadata": {},
   "outputs": [],
   "source": [
    "theta = fit_logistic_reg(X_train, y_train, f_objective)"
   ]
  },
  {
   "cell_type": "code",
   "execution_count": 7,
   "id": "977e76fc",
   "metadata": {},
   "outputs": [
    {
     "data": {
      "text/plain": [
       "array([ 0.00098728,  0.00086965,  0.00030948,  0.0220741 ,  0.00024179,\n",
       "        0.00074034,  0.00011989,  0.00085946,  0.00090579, -0.01224871,\n",
       "        0.00195635,  0.000236  ,  0.00459855,  0.00012711,  0.00047899,\n",
       "        0.00117241,  0.00037253, -0.00044841, -0.00044868, -0.00069619,\n",
       "        0.00178108])"
      ]
     },
     "execution_count": 7,
     "metadata": {},
     "output_type": "execute_result"
    }
   ],
   "source": [
    "theta"
   ]
  },
  {
   "cell_type": "markdown",
   "id": "cc9dc880",
   "metadata": {},
   "source": [
    "# 7."
   ]
  },
  {
   "cell_type": "code",
   "execution_count": 17,
   "id": "725fea83",
   "metadata": {},
   "outputs": [
    {
     "data": {
      "image/png": "[encoded data removed]",
      "text/plain": [
       "<Figure size 432x288 with 1 Axes>"
      ]
     },
     "metadata": {
      "needs_background": "light"
     },
     "output_type": "display_data"
    }
   ],
   "source": [
    "# \n",
    "l2 = [1e-6,1e-5,1e-4,1e-3,1e-2,0.1,1,10,100]\n",
    "\n",
    "opt_theta = theta\n",
    "neg_like = []\n",
    "loss = []\n",
    "for lamb in l2:\n",
    "    theta = fit_logistic_reg(X_train, y_train, f_objective, lamb)\n",
    "    neg_like.append(np.sum(np.logaddexp(0, -y_val * np.dot(theta, X_val.T))))\n",
    "    loss.append(f_objective(theta, X_val, y_val, lamb))\n",
    "    \n",
    "plt.title('likelihood over different l2 parameters')\n",
    "plt.plot(np.log(l2),neg_like)\n",
    "plt.scatter(np.log(l2),neg_like)\n",
    "plt.show()"
   ]
  },
  {
   "cell_type": "code",
   "execution_count": 9,
   "id": "e5e91b8b",
   "metadata": {},
   "outputs": [
    {
     "data": {
      "text/plain": [
       "[234.7935951689628,\n",
       " 234.71398361045135,\n",
       " 234.02820358879904,\n",
       " 233.41474303793717,\n",
       " 252.55062675100987,\n",
       " 272.86317562341696,\n",
       " 276.77073156212475,\n",
       " 277.20805764260996,\n",
       " 277.2537524776707]"
      ]
     },
     "execution_count": 9,
     "metadata": {},
     "output_type": "execute_result"
    }
   ],
   "source": [
    "neg_like"
   ]
  },
  {
   "cell_type": "code",
   "execution_count": 10,
   "id": "c8876e9b",
   "metadata": {},
   "outputs": [],
   "source": [
    "neg_like = np.array(neg_like)"
   ]
  },
  {
   "cell_type": "code",
   "execution_count": 11,
   "id": "ec8d244b",
   "metadata": {},
   "outputs": [
    {
     "name": "stdout",
     "output_type": "stream",
     "text": [
      "Optimal parameter from given range:  0.001\n"
     ]
    }
   ],
   "source": [
    "opt_l2= l2[np.argmin(neg_like)]\n",
    "print(\"Optimal parameter from given range: \",l2[np.argmin(neg_like)])\n"
   ]
  },
  {
   "cell_type": "markdown",
   "id": "16c61b75",
   "metadata": {},
   "source": [
    "# 8."
   ]
  },
  {
   "cell_type": "code",
   "execution_count": 12,
   "id": "540b44ad",
   "metadata": {},
   "outputs": [],
   "source": [
    "theta = fit_logistic_reg(X_train, y_train, f_objective, l2_param = opt_l2)\n"
   ]
  },
  {
   "cell_type": "code",
   "execution_count": 13,
   "id": "40efd358",
   "metadata": {},
   "outputs": [],
   "source": [
    "from sklearn.calibration import calibration_curve\n",
    "\n",
    "y_cal =1/(1+np.exp(-np.dot(X_val, theta.T)))\n",
    "p_true, p_pred = calibration_curve(y_val, y_cal, normalize=False, n_bins=10)"
   ]
  },
  {
   "cell_type": "code",
   "execution_count": 14,
   "id": "c4239ad2",
   "metadata": {},
   "outputs": [
    {
     "data": {
      "text/plain": [
       "[<matplotlib.lines.Line2D at 0x7f7828080850>]"
      ]
     },
     "execution_count": 14,
     "metadata": {},
     "output_type": "execute_result"
    },
    {
     "data": {
      "image/png": "[encoded data removed]",
      "text/plain": [
       "<Figure size 432x288 with 1 Axes>"
      ]
     },
     "metadata": {
      "needs_background": "light"
     },
     "output_type": "display_data"
    }
   ],
   "source": [
    "plt.plot(p_pred, p_true, marker = '.')\n",
    "plt.xlabel('probability predicted') \n",
    "plt.ylabel('true probability')\n",
    "plt.plot([0, 1], [0, 1], linestyle = '-')"
   ]
  },
  {
   "cell_type": "code",
   "execution_count": 15,
   "id": "1bc5d82b",
   "metadata": {},
   "outputs": [
    {
     "name": "stdout",
     "output_type": "stream",
     "text": [
      "Prediction: [0.08865239 0.17001573 0.26108523 0.35327464 0.45025719 0.5455254\n",
      " 0.65000857 0.75301677 0.85731035 0.92624737]\n",
      "True:  [0.         0.45454545 0.25490196 0.24137931 0.35064935 0.66666667\n",
      " 0.84090909 0.81818182 0.8125     0.8       ]\n"
     ]
    }
   ],
   "source": [
    "print(\"Prediction:\", p_pred)\n",
    "print(\"True: \", p_true)"
   ]
  },
  {
   "cell_type": "code",
   "execution_count": 16,
   "id": "9a2ec6d5",
   "metadata": {},
   "outputs": [
    {
     "name": "stdout",
     "output_type": "stream",
     "text": [
      "0.19658248121614386\n"
     ]
    }
   ],
   "source": [
    "from sklearn.metrics import brier_score_loss\n",
    "print(brier_score_loss(y_val,y_cal))"
   ]
  },
  {
   "cell_type": "markdown",
   "id": "eed061d7",
   "metadata": {},
   "source": [
    "Summary: It seems like the process shows that logistic regression calibrates well.\n",
    "Brier score loss is relatively low as well."
   ]
  }
 ],
 "metadata": {
  "kernelspec": {
   "display_name": "Python 3 (ipykernel)",
   "language": "python",
   "name": "python3"
  },
  "language_info": {
   "codemirror_mode": {
    "name": "ipython",
    "version": 3
   },
   "file_extension": ".py",
   "mimetype": "text/x-python",
   "name": "python",
   "nbconvert_exporter": "python",
   "pygments_lexer": "ipython3",
   "version": "3.9.7"
  }
 },
 "nbformat": 4,
 "nbformat_minor": 5
}
